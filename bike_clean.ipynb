{
 "cells": [
  {
   "cell_type": "markdown",
   "id": "c7818942-9859-45e1-aa3b-47efa5a58919",
   "metadata": {},
   "source": [
    "# __CRITICAL DATA CLEANING AND MODELING PROCESS__"
   ]
  },
  {
   "cell_type": "markdown",
   "id": "a45d176a-b9d0-4e38-8ed1-a9630b5849ce",
   "metadata": {},
   "source": [
    "## Step 1: Load and combine the datasets"
   ]
  },
  {
   "cell_type": "code",
   "execution_count": 1,
   "id": "9c07d47e-4b2a-4c18-a842-705fe0da335f",
   "metadata": {},
   "outputs": [
    {
     "name": "stdout",
     "output_type": "stream",
     "text": [
      "202201-divvy-tripdata.csv has 103770 rows.\n",
      "202202-divvy-tripdata.csv has 115609 rows.\n",
      "202203-divvy-tripdata.csv has 284042 rows.\n",
      "202204-divvy-tripdata.csv has 371249 rows.\n",
      "202205-divvy-tripdata.csv has 634858 rows.\n",
      "202206-divvy-tripdata.csv has 769204 rows.\n",
      "202207-divvy-tripdata.csv has 823488 rows.\n",
      "202208-divvy-tripdata.csv has 785932 rows.\n",
      "202209-divvy-tripdata.csv has 701339 rows.\n",
      "202210-divvy-tripdata.csv has 558685 rows.\n",
      "202211-divvy-tripdata.csv has 337735 rows.\n",
      "202212-divvy-tripdata.csv has 181806 rows.\n",
      "Combined dataset has 5667717 rows.\n",
      "Operation combine complete.\n"
     ]
    }
   ],
   "source": [
    "import pandas as pd\n",
    "import os\n",
    "\n",
    "# Directory containing the CSV files\n",
    "dir_path = r'C:\\Users\\roen\\Desktop\\Google Project\\Bike Project\\original_csv_db\\data'\n",
    "\n",
    "# List of CSV files to combine\n",
    "csv_files = [\n",
    "    f'202201-divvy-tripdata.csv',\n",
    "    f'202202-divvy-tripdata.csv',\n",
    "    f'202203-divvy-tripdata.csv',\n",
    "    f'202204-divvy-tripdata.csv',\n",
    "    f'202205-divvy-tripdata.csv',\n",
    "    f'202206-divvy-tripdata.csv',\n",
    "    f'202207-divvy-tripdata.csv',\n",
    "    f'202208-divvy-tripdata.csv',\n",
    "    f'202209-divvy-tripdata.csv',\n",
    "    f'202210-divvy-tripdata.csv',\n",
    "    f'202211-divvy-tripdata.csv',\n",
    "    f'202212-divvy-tripdata.csv'\n",
    "]\n",
    "\n",
    "# Initialize an empty list to hold dataframes\n",
    "dfs = []\n",
    "\n",
    "# Iterate over the list of files and read them into dataframes\n",
    "for csv_file in csv_files:\n",
    "    file_path = os.path.join(dir_path, csv_file)\n",
    "    df = pd.read_csv(file_path)\n",
    "    dfs.append(df)\n",
    "    print(f'{csv_file} has {len(df)} rows.')\n",
    "\n",
    "# Concatenate all dataframes into one\n",
    "combined_df = pd.concat(dfs, ignore_index=True)\n",
    "\n",
    "# Save the combined dataframe to a new CSV file\n",
    "save_path = r'C:\\Users\\roen\\Desktop\\Google Project\\Bike Project\\original_csv_db\\combined_data'\n",
    "combined_csv_path = os.path.join(save_path, 'combined_divvy_tripdata.csv')\n",
    "combined_df.to_csv(combined_csv_path, index=False)\n",
    "\n",
    "# Report the row count of the combined dataframe\n",
    "print(f'Combined dataset has {len(combined_df)} rows.')\n",
    "\n",
    "# Report the operation is complete\n",
    "print('Operation combine complete.')"
   ]
  },
  {
   "cell_type": "markdown",
   "id": "3f5c97f5-9f48-4904-84df-89e340909e32",
   "metadata": {},
   "source": [
    "##### Combined All Raw .csv Files from January to December 2022"
   ]
  },
  {
   "cell_type": "markdown",
   "id": "962627d5-5eea-45aa-be1f-ee22193968bf",
   "metadata": {},
   "source": [
    "## Step 2: Import the Combined Datasets into a DataFrame"
   ]
  },
  {
   "cell_type": "code",
   "execution_count": 2,
   "id": "bd996849-bb90-40ed-a12a-c2f90c01cae6",
   "metadata": {},
   "outputs": [
    {
     "data": {
      "text/html": [
       "<div>\n",
       "<style scoped>\n",
       "    .dataframe tbody tr th:only-of-type {\n",
       "        vertical-align: middle;\n",
       "    }\n",
       "\n",
       "    .dataframe tbody tr th {\n",
       "        vertical-align: top;\n",
       "    }\n",
       "\n",
       "    .dataframe thead th {\n",
       "        text-align: right;\n",
       "    }\n",
       "</style>\n",
       "<table border=\"1\" class=\"dataframe\">\n",
       "  <thead>\n",
       "    <tr style=\"text-align: right;\">\n",
       "      <th></th>\n",
       "      <th>ride_id</th>\n",
       "      <th>rideable_type</th>\n",
       "      <th>started_at</th>\n",
       "      <th>ended_at</th>\n",
       "      <th>start_station_name</th>\n",
       "      <th>start_station_id</th>\n",
       "      <th>end_station_name</th>\n",
       "      <th>end_station_id</th>\n",
       "      <th>start_lat</th>\n",
       "      <th>start_lng</th>\n",
       "      <th>end_lat</th>\n",
       "      <th>end_lng</th>\n",
       "      <th>member_casual</th>\n",
       "    </tr>\n",
       "  </thead>\n",
       "  <tbody>\n",
       "    <tr>\n",
       "      <th>0</th>\n",
       "      <td>C2F7DD78E82EC875</td>\n",
       "      <td>electric_bike</td>\n",
       "      <td>2022-01-13 11:59:47</td>\n",
       "      <td>2022-01-13 12:02:44</td>\n",
       "      <td>Glenwood Ave &amp; Touhy Ave</td>\n",
       "      <td>525</td>\n",
       "      <td>Clark St &amp; Touhy Ave</td>\n",
       "      <td>RP-007</td>\n",
       "      <td>42.012800</td>\n",
       "      <td>-87.665906</td>\n",
       "      <td>42.012560</td>\n",
       "      <td>-87.674367</td>\n",
       "      <td>casual</td>\n",
       "    </tr>\n",
       "    <tr>\n",
       "      <th>1</th>\n",
       "      <td>A6CF8980A652D272</td>\n",
       "      <td>electric_bike</td>\n",
       "      <td>2022-01-10 08:41:56</td>\n",
       "      <td>2022-01-10 08:46:17</td>\n",
       "      <td>Glenwood Ave &amp; Touhy Ave</td>\n",
       "      <td>525</td>\n",
       "      <td>Clark St &amp; Touhy Ave</td>\n",
       "      <td>RP-007</td>\n",
       "      <td>42.012763</td>\n",
       "      <td>-87.665967</td>\n",
       "      <td>42.012560</td>\n",
       "      <td>-87.674367</td>\n",
       "      <td>casual</td>\n",
       "    </tr>\n",
       "    <tr>\n",
       "      <th>2</th>\n",
       "      <td>BD0F91DFF741C66D</td>\n",
       "      <td>classic_bike</td>\n",
       "      <td>2022-01-25 04:53:40</td>\n",
       "      <td>2022-01-25 04:58:01</td>\n",
       "      <td>Sheffield Ave &amp; Fullerton Ave</td>\n",
       "      <td>TA1306000016</td>\n",
       "      <td>Greenview Ave &amp; Fullerton Ave</td>\n",
       "      <td>TA1307000001</td>\n",
       "      <td>41.925602</td>\n",
       "      <td>-87.653708</td>\n",
       "      <td>41.925330</td>\n",
       "      <td>-87.665800</td>\n",
       "      <td>member</td>\n",
       "    </tr>\n",
       "    <tr>\n",
       "      <th>3</th>\n",
       "      <td>CBB80ED419105406</td>\n",
       "      <td>classic_bike</td>\n",
       "      <td>2022-01-04 00:18:04</td>\n",
       "      <td>2022-01-04 00:33:00</td>\n",
       "      <td>Clark St &amp; Bryn Mawr Ave</td>\n",
       "      <td>KA1504000151</td>\n",
       "      <td>Paulina St &amp; Montrose Ave</td>\n",
       "      <td>TA1309000021</td>\n",
       "      <td>41.983593</td>\n",
       "      <td>-87.669154</td>\n",
       "      <td>41.961507</td>\n",
       "      <td>-87.671387</td>\n",
       "      <td>casual</td>\n",
       "    </tr>\n",
       "    <tr>\n",
       "      <th>4</th>\n",
       "      <td>DDC963BFDDA51EEA</td>\n",
       "      <td>classic_bike</td>\n",
       "      <td>2022-01-20 01:31:10</td>\n",
       "      <td>2022-01-20 01:37:12</td>\n",
       "      <td>Michigan Ave &amp; Jackson Blvd</td>\n",
       "      <td>TA1309000002</td>\n",
       "      <td>State St &amp; Randolph St</td>\n",
       "      <td>TA1305000029</td>\n",
       "      <td>41.877850</td>\n",
       "      <td>-87.624080</td>\n",
       "      <td>41.884621</td>\n",
       "      <td>-87.627834</td>\n",
       "      <td>member</td>\n",
       "    </tr>\n",
       "  </tbody>\n",
       "</table>\n",
       "</div>"
      ],
      "text/plain": [
       "            ride_id  rideable_type           started_at             ended_at  \\\n",
       "0  C2F7DD78E82EC875  electric_bike  2022-01-13 11:59:47  2022-01-13 12:02:44   \n",
       "1  A6CF8980A652D272  electric_bike  2022-01-10 08:41:56  2022-01-10 08:46:17   \n",
       "2  BD0F91DFF741C66D   classic_bike  2022-01-25 04:53:40  2022-01-25 04:58:01   \n",
       "3  CBB80ED419105406   classic_bike  2022-01-04 00:18:04  2022-01-04 00:33:00   \n",
       "4  DDC963BFDDA51EEA   classic_bike  2022-01-20 01:31:10  2022-01-20 01:37:12   \n",
       "\n",
       "              start_station_name start_station_id  \\\n",
       "0       Glenwood Ave & Touhy Ave              525   \n",
       "1       Glenwood Ave & Touhy Ave              525   \n",
       "2  Sheffield Ave & Fullerton Ave     TA1306000016   \n",
       "3       Clark St & Bryn Mawr Ave     KA1504000151   \n",
       "4    Michigan Ave & Jackson Blvd     TA1309000002   \n",
       "\n",
       "                end_station_name end_station_id  start_lat  start_lng  \\\n",
       "0           Clark St & Touhy Ave         RP-007  42.012800 -87.665906   \n",
       "1           Clark St & Touhy Ave         RP-007  42.012763 -87.665967   \n",
       "2  Greenview Ave & Fullerton Ave   TA1307000001  41.925602 -87.653708   \n",
       "3      Paulina St & Montrose Ave   TA1309000021  41.983593 -87.669154   \n",
       "4         State St & Randolph St   TA1305000029  41.877850 -87.624080   \n",
       "\n",
       "     end_lat    end_lng member_casual  \n",
       "0  42.012560 -87.674367        casual  \n",
       "1  42.012560 -87.674367        casual  \n",
       "2  41.925330 -87.665800        member  \n",
       "3  41.961507 -87.671387        casual  \n",
       "4  41.884621 -87.627834        member  "
      ]
     },
     "execution_count": 2,
     "metadata": {},
     "output_type": "execute_result"
    }
   ],
   "source": [
    "# Import necessary libraries\n",
    "import pandas as pd\n",
    "\n",
    "# Load the combined dataset\n",
    "file_path = combined_csv_path\n",
    "df = pd.read_csv(file_path)\n",
    "\n",
    "# Display the first few rows\n",
    "df.head()"
   ]
  },
  {
   "cell_type": "markdown",
   "id": "80abde8a-1392-42bd-8ca7-196e2bb22a03",
   "metadata": {},
   "source": [
    "## Step 3: Data Cleaning"
   ]
  },
  {
   "cell_type": "markdown",
   "id": "09aec8d6-acaf-4ad3-99d9-b30fa3871846",
   "metadata": {},
   "source": [
    "### 3.1 Understanding the Dataset"
   ]
  },
  {
   "cell_type": "code",
   "execution_count": 3,
   "id": "5bab9364-2ff5-4fb7-9e97-ba64953da555",
   "metadata": {},
   "outputs": [
    {
     "name": "stdout",
     "output_type": "stream",
     "text": [
      "<class 'pandas.core.frame.DataFrame'>\n",
      "RangeIndex: 5667717 entries, 0 to 5667716\n",
      "Data columns (total 13 columns):\n",
      " #   Column              Dtype  \n",
      "---  ------              -----  \n",
      " 0   ride_id             object \n",
      " 1   rideable_type       object \n",
      " 2   started_at          object \n",
      " 3   ended_at            object \n",
      " 4   start_station_name  object \n",
      " 5   start_station_id    object \n",
      " 6   end_station_name    object \n",
      " 7   end_station_id      object \n",
      " 8   start_lat           float64\n",
      " 9   start_lng           float64\n",
      " 10  end_lat             float64\n",
      " 11  end_lng             float64\n",
      " 12  member_casual       object \n",
      "dtypes: float64(4), object(9)\n",
      "memory usage: 562.1+ MB\n"
     ]
    }
   ],
   "source": [
    "# Display basic information about the dataset\n",
    "df.info()"
   ]
  },
  {
   "cell_type": "markdown",
   "id": "e09b3698-350b-4877-bd1b-b5e739c801cb",
   "metadata": {},
   "source": [
    "##### Preliminary Exploration of Data Types for Each Column"
   ]
  },
  {
   "cell_type": "markdown",
   "id": "c78404a7-6f5e-43e9-a13b-cb1cfd186999",
   "metadata": {},
   "source": [
    "### 3.2 Checking for Missing Values"
   ]
  },
  {
   "cell_type": "code",
   "execution_count": 4,
   "id": "43a8fc9a-7e8f-4763-87f7-5aad43ed6ae1",
   "metadata": {},
   "outputs": [
    {
     "data": {
      "text/plain": [
       "ride_id                    0\n",
       "rideable_type              0\n",
       "started_at                 0\n",
       "ended_at                   0\n",
       "start_station_name    833064\n",
       "start_station_id      833064\n",
       "end_station_name      892742\n",
       "end_station_id        892742\n",
       "start_lat                  0\n",
       "start_lng                  0\n",
       "end_lat                 5858\n",
       "end_lng                 5858\n",
       "member_casual              0\n",
       "dtype: int64"
      ]
     },
     "execution_count": 4,
     "metadata": {},
     "output_type": "execute_result"
    }
   ],
   "source": [
    "# Check for missing values\n",
    "missing_values = df.isnull().sum()\n",
    "missing_values"
   ]
  },
  {
   "cell_type": "markdown",
   "id": "b8a67159-f765-4a90-ab3d-5d0aa815de39",
   "metadata": {},
   "source": [
    "### 3.3 Handling Missing Values"
   ]
  },
  {
   "cell_type": "code",
   "execution_count": 5,
   "id": "d90d9cf5-d644-44cd-bb0e-712caaceef33",
   "metadata": {},
   "outputs": [
    {
     "name": "stdout",
     "output_type": "stream",
     "text": [
      "Total rows before removing missing values: 5667717\n",
      "Total rows after removing missing values: 4369360\n",
      "Total rows deleted: 1298357\n",
      "Percentage of rows deleted: 22.91%\n"
     ]
    }
   ],
   "source": [
    "# Count rows before removing missing values\n",
    "total_rows_before = len(df)\n",
    "print(f'Total rows before removing missing values: {total_rows_before}')\n",
    "\n",
    "# Drop rows with missing values\n",
    "df.dropna(inplace=True)\n",
    "\n",
    "# Count rows after removing missing values\n",
    "total_rows_after = len(df)\n",
    "print(f'Total rows after removing missing values: {total_rows_after}')\n",
    "\n",
    "# Report the number of rows deleted and the percentage\n",
    "total_deleted = total_rows_before - total_rows_after\n",
    "percentage_deleted = (total_deleted / total_rows_before) * 100\n",
    "print(f'Total rows deleted: {total_deleted}')\n",
    "print(f'Percentage of rows deleted: {percentage_deleted:.2f}%')"
   ]
  },
  {
   "cell_type": "markdown",
   "id": "45e6cf04-9385-455b-be3a-71fa1df67e8c",
   "metadata": {},
   "source": [
    "##### Missing Values Eliminated: Removed 1,298,354 of 5,667,717 Rows (22.91%)"
   ]
  },
  {
   "cell_type": "markdown",
   "id": "dd9da8fc-9f92-476a-bc0e-4d6d6ce3d953",
   "metadata": {},
   "source": [
    "### 3.4 Checking Duplicated Values"
   ]
  },
  {
   "cell_type": "code",
   "execution_count": 6,
   "id": "d54cb4e8-65c4-4d39-9750-1502d546819b",
   "metadata": {},
   "outputs": [
    {
     "name": "stdout",
     "output_type": "stream",
     "text": [
      "Total duplicate rows removed: 0\n",
      "Percentage of duplicate rows removed: 0.00%\n"
     ]
    }
   ],
   "source": [
    "# Count rows before removing duplicates\n",
    "total_rows_before_duplicates = len(df)\n",
    "\n",
    "# Remove duplicates\n",
    "df.drop_duplicates(inplace=True)\n",
    "\n",
    "# Count rows after removing duplicates\n",
    "total_rows_after_duplicates = len(df)\n",
    "\n",
    "# Report the number of duplicate rows removed and the percentage\n",
    "total_duplicates_removed = total_rows_before_duplicates - total_rows_after_duplicates\n",
    "percentage_duplicates_removed = (total_duplicates_removed / total_rows_before_duplicates) * 100\n",
    "print(f'Total duplicate rows removed: {total_duplicates_removed}')\n",
    "print(f'Percentage of duplicate rows removed: {percentage_duplicates_removed:.2f}%')"
   ]
  },
  {
   "cell_type": "markdown",
   "id": "8f29850d-99dd-45ab-96e6-bdb4c7922a4d",
   "metadata": {},
   "source": [
    "### 3.5 Data Modeling"
   ]
  },
  {
   "cell_type": "code",
   "execution_count": 7,
   "id": "c041eb04-291a-4cee-9a9c-ca692d822371",
   "metadata": {},
   "outputs": [
    {
     "name": "stdout",
     "output_type": "stream",
     "text": [
      "Is ride_id unique: True\n"
     ]
    },
    {
     "data": {
      "text/html": [
       "<div>\n",
       "<style scoped>\n",
       "    .dataframe tbody tr th:only-of-type {\n",
       "        vertical-align: middle;\n",
       "    }\n",
       "\n",
       "    .dataframe tbody tr th {\n",
       "        vertical-align: top;\n",
       "    }\n",
       "\n",
       "    .dataframe thead th {\n",
       "        text-align: right;\n",
       "    }\n",
       "</style>\n",
       "<table border=\"1\" class=\"dataframe\">\n",
       "  <thead>\n",
       "    <tr style=\"text-align: right;\">\n",
       "      <th></th>\n",
       "      <th>ride_id</th>\n",
       "      <th>rideable_type</th>\n",
       "      <th>started_at</th>\n",
       "      <th>ended_at</th>\n",
       "      <th>start_station_name</th>\n",
       "      <th>start_station_id</th>\n",
       "      <th>end_station_name</th>\n",
       "      <th>end_station_id</th>\n",
       "      <th>start_lat</th>\n",
       "      <th>start_lng</th>\n",
       "      <th>end_lat</th>\n",
       "      <th>end_lng</th>\n",
       "      <th>member_casual</th>\n",
       "      <th>ride_length</th>\n",
       "    </tr>\n",
       "  </thead>\n",
       "  <tbody>\n",
       "    <tr>\n",
       "      <th>0</th>\n",
       "      <td>C2F7DD78E82EC875</td>\n",
       "      <td>electric_bike</td>\n",
       "      <td>2022-01-13 11:59:47</td>\n",
       "      <td>2022-01-13 12:02:44</td>\n",
       "      <td>Glenwood Ave &amp; Touhy Ave</td>\n",
       "      <td>525</td>\n",
       "      <td>Clark St &amp; Touhy Ave</td>\n",
       "      <td>RP-007</td>\n",
       "      <td>42.012800</td>\n",
       "      <td>-87.665906</td>\n",
       "      <td>42.012560</td>\n",
       "      <td>-87.674367</td>\n",
       "      <td>casual</td>\n",
       "      <td>177.0</td>\n",
       "    </tr>\n",
       "    <tr>\n",
       "      <th>1</th>\n",
       "      <td>A6CF8980A652D272</td>\n",
       "      <td>electric_bike</td>\n",
       "      <td>2022-01-10 08:41:56</td>\n",
       "      <td>2022-01-10 08:46:17</td>\n",
       "      <td>Glenwood Ave &amp; Touhy Ave</td>\n",
       "      <td>525</td>\n",
       "      <td>Clark St &amp; Touhy Ave</td>\n",
       "      <td>RP-007</td>\n",
       "      <td>42.012763</td>\n",
       "      <td>-87.665967</td>\n",
       "      <td>42.012560</td>\n",
       "      <td>-87.674367</td>\n",
       "      <td>casual</td>\n",
       "      <td>261.0</td>\n",
       "    </tr>\n",
       "    <tr>\n",
       "      <th>2</th>\n",
       "      <td>BD0F91DFF741C66D</td>\n",
       "      <td>classic_bike</td>\n",
       "      <td>2022-01-25 04:53:40</td>\n",
       "      <td>2022-01-25 04:58:01</td>\n",
       "      <td>Sheffield Ave &amp; Fullerton Ave</td>\n",
       "      <td>TA1306000016</td>\n",
       "      <td>Greenview Ave &amp; Fullerton Ave</td>\n",
       "      <td>TA1307000001</td>\n",
       "      <td>41.925602</td>\n",
       "      <td>-87.653708</td>\n",
       "      <td>41.925330</td>\n",
       "      <td>-87.665800</td>\n",
       "      <td>member</td>\n",
       "      <td>261.0</td>\n",
       "    </tr>\n",
       "    <tr>\n",
       "      <th>3</th>\n",
       "      <td>CBB80ED419105406</td>\n",
       "      <td>classic_bike</td>\n",
       "      <td>2022-01-04 00:18:04</td>\n",
       "      <td>2022-01-04 00:33:00</td>\n",
       "      <td>Clark St &amp; Bryn Mawr Ave</td>\n",
       "      <td>KA1504000151</td>\n",
       "      <td>Paulina St &amp; Montrose Ave</td>\n",
       "      <td>TA1309000021</td>\n",
       "      <td>41.983593</td>\n",
       "      <td>-87.669154</td>\n",
       "      <td>41.961507</td>\n",
       "      <td>-87.671387</td>\n",
       "      <td>casual</td>\n",
       "      <td>896.0</td>\n",
       "    </tr>\n",
       "    <tr>\n",
       "      <th>4</th>\n",
       "      <td>DDC963BFDDA51EEA</td>\n",
       "      <td>classic_bike</td>\n",
       "      <td>2022-01-20 01:31:10</td>\n",
       "      <td>2022-01-20 01:37:12</td>\n",
       "      <td>Michigan Ave &amp; Jackson Blvd</td>\n",
       "      <td>TA1309000002</td>\n",
       "      <td>State St &amp; Randolph St</td>\n",
       "      <td>TA1305000029</td>\n",
       "      <td>41.877850</td>\n",
       "      <td>-87.624080</td>\n",
       "      <td>41.884621</td>\n",
       "      <td>-87.627834</td>\n",
       "      <td>member</td>\n",
       "      <td>362.0</td>\n",
       "    </tr>\n",
       "  </tbody>\n",
       "</table>\n",
       "</div>"
      ],
      "text/plain": [
       "            ride_id  rideable_type          started_at            ended_at  \\\n",
       "0  C2F7DD78E82EC875  electric_bike 2022-01-13 11:59:47 2022-01-13 12:02:44   \n",
       "1  A6CF8980A652D272  electric_bike 2022-01-10 08:41:56 2022-01-10 08:46:17   \n",
       "2  BD0F91DFF741C66D   classic_bike 2022-01-25 04:53:40 2022-01-25 04:58:01   \n",
       "3  CBB80ED419105406   classic_bike 2022-01-04 00:18:04 2022-01-04 00:33:00   \n",
       "4  DDC963BFDDA51EEA   classic_bike 2022-01-20 01:31:10 2022-01-20 01:37:12   \n",
       "\n",
       "              start_station_name start_station_id  \\\n",
       "0       Glenwood Ave & Touhy Ave              525   \n",
       "1       Glenwood Ave & Touhy Ave              525   \n",
       "2  Sheffield Ave & Fullerton Ave     TA1306000016   \n",
       "3       Clark St & Bryn Mawr Ave     KA1504000151   \n",
       "4    Michigan Ave & Jackson Blvd     TA1309000002   \n",
       "\n",
       "                end_station_name end_station_id  start_lat  start_lng  \\\n",
       "0           Clark St & Touhy Ave         RP-007  42.012800 -87.665906   \n",
       "1           Clark St & Touhy Ave         RP-007  42.012763 -87.665967   \n",
       "2  Greenview Ave & Fullerton Ave   TA1307000001  41.925602 -87.653708   \n",
       "3      Paulina St & Montrose Ave   TA1309000021  41.983593 -87.669154   \n",
       "4         State St & Randolph St   TA1305000029  41.877850 -87.624080   \n",
       "\n",
       "     end_lat    end_lng member_casual  ride_length  \n",
       "0  42.012560 -87.674367        casual        177.0  \n",
       "1  42.012560 -87.674367        casual        261.0  \n",
       "2  41.925330 -87.665800        member        261.0  \n",
       "3  41.961507 -87.671387        casual        896.0  \n",
       "4  41.884621 -87.627834        member        362.0  "
      ]
     },
     "execution_count": 7,
     "metadata": {},
     "output_type": "execute_result"
    }
   ],
   "source": [
    "# Convert 'started_at' and 'ended_at' to datetime\n",
    "df['started_at'] = pd.to_datetime(df['started_at'])\n",
    "df['ended_at'] = pd.to_datetime(df['ended_at'])\n",
    "\n",
    "# Create 'ride_length' column as the difference in seconds\n",
    "df['ride_length'] = (df['ended_at'] - df['started_at']).dt.total_seconds()\n",
    "\n",
    "# Ensure 'ride_length' is numeric\n",
    "df['ride_length'] = pd.to_numeric(df['ride_length'], errors='coerce')\n",
    "\n",
    "# Check if 'ride_id' is unique\n",
    "is_unique = df['ride_id'].is_unique\n",
    "print(f'Is ride_id unique: {is_unique}')\n",
    "\n",
    "# Display the first few rows to check the new column\n",
    "df.head()"
   ]
  },
  {
   "cell_type": "markdown",
   "id": "5a2ca23a-61ca-4885-8c6c-e1b41ec3a0e0",
   "metadata": {},
   "source": [
    "##### Create Critical Column 'ride_length' to Understand User Ride Time and Ensure 'ride_id' Contains Unique Values"
   ]
  },
  {
   "cell_type": "markdown",
   "id": "093101e5-ec00-4b79-a679-a711343d6df1",
   "metadata": {},
   "source": [
    "### 3.6 Filter Out Anomalous Short Rides"
   ]
  },
  {
   "cell_type": "code",
   "execution_count": 8,
   "id": "4407edf4-ae5d-4e0e-bdb7-c8d9fdfbb6a1",
   "metadata": {},
   "outputs": [
    {
     "name": "stdout",
     "output_type": "stream",
     "text": [
      "Total short rides (less than 10 seconds) removed: 77399\n",
      "Percentage of short rides removed: 1.77%\n"
     ]
    }
   ],
   "source": [
    "# Count rows before removing short rides\n",
    "total_rows_before_short_rides = len(df)\n",
    "\n",
    "# Remove rides with ride_length less than 10 seconds\n",
    "df = df[df['ride_length'] > 60]\n",
    "\n",
    "# Count rows after removing short rides\n",
    "total_rows_after_short_rides = len(df)\n",
    "\n",
    "# Report the number of short rides removed and the percentage\n",
    "total_deleted_short_rides = total_rows_before_short_rides - total_rows_after_short_rides\n",
    "percentage_deleted_short_rides = (total_deleted_short_rides / total_rows_before_short_rides) * 100\n",
    "print(f'Total short rides (less than 10 seconds) removed: {total_deleted_short_rides}')\n",
    "print(f'Percentage of short rides removed: {percentage_deleted_short_rides:.2f}%')"
   ]
  },
  {
   "cell_type": "markdown",
   "id": "6985170d-4722-4d08-b53e-ab003fd60f14",
   "metadata": {},
   "source": [
    "#### __Ensure 'ride_length' is Greater Than 60 Seconds to Eliminate Short Rides__\n",
    "\n",
    "##### I assumed rides shorter than 60 seconds might indicate users who changed their minds or unintentionally started the ride. By removing these short rides, 1.77% of the dataset, totaling 77,399 rows, was eliminated. This step improves the reliability of the analysis"
   ]
  },
  {
   "cell_type": "markdown",
   "id": "37871ed2-dcd1-4299-ab67-91acfcdb5b79",
   "metadata": {},
   "source": [
    "### Step 4: Save the Cleaned Dataset"
   ]
  },
  {
   "cell_type": "code",
   "execution_count": 19,
   "id": "6e32d4f0-3919-45bc-b5dd-3fc5b57be380",
   "metadata": {},
   "outputs": [
    {
     "name": "stdout",
     "output_type": "stream",
     "text": [
      "The cleaned dataset contains a total of 4291961 rows.\n",
      "The combined dataset contains 5667717 rows.\n",
      "Total percentage of data cleaned: 24.27%\n",
      "Data cleaning and saving complete.\n"
     ]
    }
   ],
   "source": [
    "# Define the save path and file name\n",
    "save_path = r'C:\\Users\\roen\\Desktop\\Google Project\\Bike Project\\original_csv_db\\cleaned_data'\n",
    "file_name = 'cleaned_divvy_tripdata_clean.csv'\n",
    "\n",
    "# Combine the save path and file name\n",
    "full_save_path = f'{save_path}\\{file_name}'\n",
    "\n",
    "# Save the cleaned dataset to a new CSV file\n",
    "df.to_csv(full_save_path, index=False)\n",
    "\n",
    "# Report the row count of the cleaned dataframe\n",
    "cleaned_percentage = abs((len(df) / len(combined_df) - 1) * 100)\n",
    "print(f'The cleaned dataset contains a total of {len(df)} rows.')\n",
    "print(f'The combined dataset contains {len(combined_df)} rows.')\n",
    "print(f'Total percentage of data cleaned: {cleaned_percentage:.2f}%')\n",
    "\n",
    "# Report the operation is complete\n",
    "print('Data cleaning and saving complete.')"
   ]
  }
 ],
 "metadata": {
  "kernelspec": {
   "display_name": "Python 3 (ipykernel)",
   "language": "python",
   "name": "python3"
  },
  "language_info": {
   "codemirror_mode": {
    "name": "ipython",
    "version": 3
   },
   "file_extension": ".py",
   "mimetype": "text/x-python",
   "name": "python",
   "nbconvert_exporter": "python",
   "pygments_lexer": "ipython3",
   "version": "3.11.7"
  }
 },
 "nbformat": 4,
 "nbformat_minor": 5
}
